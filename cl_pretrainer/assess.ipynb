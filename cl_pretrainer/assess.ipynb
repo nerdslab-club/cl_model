{
 "cells": [
  {
   "cell_type": "code",
   "execution_count": 6,
   "metadata": {
    "collapsed": true,
    "ExecuteTime": {
     "end_time": "2023-09-26T13:49:44.250751Z",
     "start_time": "2023-09-26T13:49:44.246029Z"
    }
   },
   "outputs": [
    {
     "name": "stdout",
     "output_type": "stream",
     "text": [
      "Mask torch.Size([2, 3, 10])\n",
      " tensor([[[1., 1., 1., 1., 1., 1., 1., 1., 1., 1.],\n",
      "         [2., 2., 2., 2., 2., 2., 2., 2., 2., 2.],\n",
      "         [1., 1., 1., 1., 1., 1., 1., 1., 1., 1.]],\n",
      "\n",
      "        [[2., 2., 2., 2., 2., 2., 2., 2., 2., 2.],\n",
      "         [1., 1., 1., 1., 1., 1., 1., 1., 1., 1.],\n",
      "         [2., 2., 2., 2., 2., 2., 2., 2., 2., 2.]]])\n"
     ]
    }
   ],
   "source": [
    "import torch\n",
    "\n",
    "# Your input tensors\n",
    "embeddings = torch.randn(2, 3, 10)  # Replace with your actual tensor\n",
    "is_special = torch.tensor([[True, False, True], [False, True, False]])  # Replace with your actual bool tensor\n",
    "\n",
    "# Create a mask to apply either 1 or 2 to the embeddings\n",
    "mask = torch.where(is_special.unsqueeze(-1), torch.tensor(1.0), torch.tensor(2.0))\n",
    "\n",
    "# Broadcast the mask to match the shape of the embeddings tensor\n",
    "mask = mask.expand_as(embeddings)\n",
    "print(f\"Mask {mask.shape}\\n {mask}\")\n",
    "\n",
    "# Element-wise multiplication to update the embeddings\n",
    "updated_embeddings = embeddings * mask\n"
   ]
  },
  {
   "cell_type": "code",
<<<<<<< HEAD
   "execution_count": 42,
=======
   "execution_count": 12,
>>>>>>> 2e2b8f6 (#10: Add functionality to perform cross attention if possitive mask)
   "outputs": [
    {
     "name": "stdout",
     "output_type": "stream",
     "text": [
<<<<<<< HEAD
      "torch.Size([1, 2])\n",
      "tensor([5, 6])\n",
      "tensor([[5, 6]])\n",
      "tensor([[1, 2],\n",
      "        [5, 6]])\n"
=======
      "tensor([[ True, False, False, False, False],\n",
      "        [False,  True,  True,  True, False],\n",
      "        [ True,  True,  True,  True, False],\n",
      "        [ True, False,  True, False, False]])\n",
      "tensor([[3, 3, 1, 1, 3],\n",
      "        [1, 2, 2, 1, 1],\n",
      "        [3, 1, 3, 1, 2],\n",
      "        [2, 1, 1, 2, 2]])\n"
>>>>>>> 2e2b8f6 (#10: Add functionality to perform cross attention if possitive mask)
     ]
    }
   ],
   "source": [
    "import torch\n",
    "\n",
<<<<<<< HEAD
    "# Existing tensor\n",
    "input_tensor = torch.tensor([[1, 2]])\n",
    "print(input_tensor.shape)\n",
    "\n",
    "# New row to add\n",
    "new_row = torch.tensor([5, 6])\n",
    "print(new_row)\n",
    "un_new_row = new_row.unsqueeze(0)\n",
    "print(un_new_row)\n",
    "\n",
    "# Stack the new row below the existing tensor\n",
    "output_tensor = torch.cat((input_tensor, un_new_row), dim=0)\n",
    "\n",
    "print(output_tensor)"
=======
    "# Sample data\n",
    "batch_size = 4\n",
    "sequence_length = 5\n",
    "embedding_length = 10\n",
    "\n",
    "# Create random tensors for X and M\n",
    "X = torch.randn(batch_size, sequence_length, embedding_length)\n",
    "M = torch.randint(0, 2, (batch_size, sequence_length), dtype=torch.bool)\n",
    "M_values = torch.randint(1, 4, (batch_size, sequence_length))\n",
    "\n",
    "print(M)\n",
    "print(M_values)\n"
>>>>>>> 2e2b8f6 (#10: Add functionality to perform cross attention if possitive mask)
   ],
   "metadata": {
    "collapsed": false,
    "ExecuteTime": {
<<<<<<< HEAD
     "end_time": "2023-09-28T07:26:17.378040Z",
     "start_time": "2023-09-28T07:26:17.372294Z"
=======
     "end_time": "2023-09-26T17:47:18.352861Z",
     "start_time": "2023-09-26T17:47:18.346764Z"
>>>>>>> 2e2b8f6 (#10: Add functionality to perform cross attention if possitive mask)
    }
   }
  },
  {
   "cell_type": "code",
<<<<<<< HEAD
   "execution_count": 56,
=======
   "execution_count": 14,
>>>>>>> 2e2b8f6 (#10: Add functionality to perform cross attention if possitive mask)
   "outputs": [
    {
     "name": "stdout",
     "output_type": "stream",
     "text": [
<<<<<<< HEAD
      "torch.Size([0, 3, 2])\n",
      "torch.Size([1, 3, 2])\n",
      "tensor([[[1., 2.],\n",
      "         [3., 4.],\n",
      "         [3., 4.]]])\n"
=======
      "tensor([[ True,  True,  True,  True, False,  True, False,  True,  True, False],\n",
      "        [False,  True,  True,  True, False, False,  True, False,  True, False],\n",
      "        [False, False,  True, False,  True,  True,  True,  True,  True,  True],\n",
      "        [ True,  True, False, False,  True, False,  True,  True,  True, False]])\n",
      "Tensor 1 shape: torch.Size([4, 5])\n",
      "Tensor 2 shape: torch.Size([1, 5])\n",
      "Tensor 3 shape: torch.Size([2, 5])\n",
      "Tensor 4 shape: torch.Size([3, 5])\n",
      "Tensor 5 shape: torch.Size([1, 5])\n",
      "Tensor 6 shape: torch.Size([1, 5])\n",
      "Tensor 7 shape: torch.Size([1, 5])\n",
      "Tensor 8 shape: torch.Size([8, 5])\n",
      "Tensor 9 shape: torch.Size([1, 5])\n",
      "Tensor 10 shape: torch.Size([3, 5])\n"
>>>>>>> 2e2b8f6 (#10: Add functionality to perform cross attention if possitive mask)
     ]
    }
   ],
   "source": [
    "import torch\n",
    "\n",
<<<<<<< HEAD
    "# Step 1: Create an empty tensor\n",
    "# You can use torch.empty to create an uninitialized tensor or torch.zeros to create a tensor filled with zeros.\n",
    "empty_tensor = torch.empty((0, 3, 2), dtype=torch.float32)  # Create an empty tensor with shape (0, 2)\n",
    "print(empty_tensor.shape)\n",
    "# Step 2: Add items to the empty tensor\n",
    "new_items = torch.tensor([[1, 2], [3,4], [3,4]]).unsqueeze(0)  # New items to add\n",
    "print(new_items.shape)\n",
    "\n",
    "# Concatenate the new items to the empty tensor\n",
    "result = torch.cat((empty_tensor, new_items), dim=0)\n",
    "\n",
    "print(result)"
=======
    "# Sample data\n",
    "batch_size = 4\n",
    "sequence_length = 10\n",
    "embedding_length = 5\n",
    "\n",
    "# Create random tensors for X and M\n",
    "X = torch.randn(batch_size, sequence_length, embedding_length)\n",
    "M = torch.randint(0, 2, (batch_size, sequence_length), dtype=torch.bool)\n"
>>>>>>> 2e2b8f6 (#10: Add functionality to perform cross attention if possitive mask)
   ],
   "metadata": {
    "collapsed": false,
    "ExecuteTime": {
<<<<<<< HEAD
     "end_time": "2023-09-28T07:55:10.851919Z",
     "start_time": "2023-09-28T07:55:10.839734Z"
=======
     "end_time": "2023-09-26T18:04:44.165255Z",
     "start_time": "2023-09-26T18:04:44.159278Z"
>>>>>>> 2e2b8f6 (#10: Add functionality to perform cross attention if possitive mask)
    }
   }
  },
  {
   "cell_type": "code",
<<<<<<< HEAD
=======
   "execution_count": 27,
   "outputs": [
    {
     "name": "stdout",
     "output_type": "stream",
     "text": [
      "tensor([[ True,  True,  True,  True, False,  True, False,  True,  True, False],\n",
      "        [False,  True,  True,  True, False, False,  True, False,  True, False],\n",
      "        [False, False,  True, False,  True,  True,  True,  True,  True,  True],\n",
      "        [ True,  True, False, False,  True, False,  True,  True,  True, False]])\n",
      "Tensor 1 shape: torch.Size([4, 5])\n",
      "Tensor 2 shape: torch.Size([1, 5])\n",
      "Tensor 3 shape: torch.Size([2, 5])\n",
      "Tensor 4 shape: torch.Size([3, 5])\n",
      "Tensor 5 shape: torch.Size([1, 5])\n",
      "Tensor 6 shape: torch.Size([1, 5])\n",
      "Tensor 7 shape: torch.Size([1, 5])\n",
      "Tensor 8 shape: torch.Size([6, 5])\n",
      "Tensor 9 shape: torch.Size([2, 5])\n",
      "Tensor 10 shape: torch.Size([1, 5])\n",
      "Tensor 11 shape: torch.Size([3, 5])\n"
     ]
    }
   ],
   "source": [
    "# Initialize variables\n",
    "print(M)\n",
    "\n",
    "EM = torch.randint(0, 2, (batch_size, sequence_length), dtype=torch.bool)\n",
    "\n",
    "result = []\n",
    "current_map = {}\n",
    "current_tensor = None  # Variable to accumulate consecutive True values\n",
    "start = (0,0)\n",
    "# Iterate through the M tensor\n",
    "for i in range(batch_size):\n",
    "    for j in range(sequence_length):\n",
    "        if M[i][j]:\n",
    "            if current_tensor is None:\n",
    "                current_map[\"start\"] = (i, j)\n",
    "                current_map[\"encoder_tensor\"]  = EM[i][j]\n",
    "                current_tensor = X[i][j].unsqueeze(0)  # Create a new tensor\n",
    "            else:\n",
    "                current_tensor = torch.cat((current_tensor, X[i][j].unsqueeze(0)), dim=0)\n",
    "        elif current_tensor is not None:\n",
    "            current_map[\"end\"] = (i, j-1)\n",
    "            current_map[\"tensor_list\"] = current_tensor\n",
    "            result.append(current_map)\n",
    "            current_tensor = None\n",
    "            current_map = {}\n",
    "\n",
    "    if current_tensor is not None:\n",
    "            current_map[\"end\"] = (i, sequence_length)\n",
    "            current_map[\"tensor_list\"] = current_tensor\n",
    "            result.append(current_map)\n",
    "            current_tensor = None\n",
    "            current_map = {}\n",
    "\n",
    "# Print the list of resulting tensors\n",
    "for i, item in enumerate(result):\n",
    "    print(f\"Tensor {i + 1} shape:\", item.get(\"tensor_list\").shape)"
   ],
   "metadata": {
    "collapsed": false,
    "ExecuteTime": {
     "end_time": "2023-09-26T19:35:03.436639Z",
     "start_time": "2023-09-26T19:35:03.430240Z"
    }
   }
  },
  {
   "cell_type": "code",
   "execution_count": null,
   "outputs": [],
   "source": [],
   "metadata": {
    "collapsed": false
   }
  },
  {
   "cell_type": "code",
>>>>>>> 2e2b8f6 (#10: Add functionality to perform cross attention if possitive mask)
   "execution_count": null,
   "outputs": [],
   "source": [],
   "metadata": {
    "collapsed": false
   }
  }
 ],
 "metadata": {
  "kernelspec": {
   "display_name": "Python 3",
   "language": "python",
   "name": "python3"
  },
  "language_info": {
   "codemirror_mode": {
    "name": "ipython",
    "version": 2
   },
   "file_extension": ".py",
   "mimetype": "text/x-python",
   "name": "python",
   "nbconvert_exporter": "python",
   "pygments_lexer": "ipython2",
   "version": "2.7.6"
  }
 },
 "nbformat": 4,
 "nbformat_minor": 0
}
