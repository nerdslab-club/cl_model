{
 "cells": [
  {
   "cell_type": "code",
   "execution_count": 6,
   "metadata": {
    "collapsed": true,
    "ExecuteTime": {
     "end_time": "2023-09-26T13:49:44.250751Z",
     "start_time": "2023-09-26T13:49:44.246029Z"
    }
   },
   "outputs": [
    {
     "name": "stdout",
     "output_type": "stream",
     "text": [
      "Mask torch.Size([2, 3, 10])\n",
      " tensor([[[1., 1., 1., 1., 1., 1., 1., 1., 1., 1.],\n",
      "         [2., 2., 2., 2., 2., 2., 2., 2., 2., 2.],\n",
      "         [1., 1., 1., 1., 1., 1., 1., 1., 1., 1.]],\n",
      "\n",
      "        [[2., 2., 2., 2., 2., 2., 2., 2., 2., 2.],\n",
      "         [1., 1., 1., 1., 1., 1., 1., 1., 1., 1.],\n",
      "         [2., 2., 2., 2., 2., 2., 2., 2., 2., 2.]]])\n"
     ]
    }
   ],
   "source": [
    "import torch\n",
    "\n",
    "# Your input tensors\n",
    "embeddings = torch.randn(2, 3, 10)  # Replace with your actual tensor\n",
    "is_special = torch.tensor([[True, False, True], [False, True, False]])  # Replace with your actual bool tensor\n",
    "\n",
    "# Create a mask to apply either 1 or 2 to the embeddings\n",
    "mask = torch.where(is_special.unsqueeze(-1), torch.tensor(1.0), torch.tensor(2.0))\n",
    "\n",
    "# Broadcast the mask to match the shape of the embeddings tensor\n",
    "mask = mask.expand_as(embeddings)\n",
    "print(f\"Mask {mask.shape}\\n {mask}\")\n",
    "\n",
    "# Element-wise multiplication to update the embeddings\n",
    "updated_embeddings = embeddings * mask\n"
   ]
  },
  {
   "cell_type": "code",
   "execution_count": 42,
   "outputs": [
    {
     "name": "stdout",
     "output_type": "stream",
     "text": [
      "torch.Size([1, 2])\n",
      "tensor([5, 6])\n",
      "tensor([[5, 6]])\n",
      "tensor([[1, 2],\n",
      "        [5, 6]])\n"
     ]
    }
   ],
   "source": [
    "import torch\n",
    "\n",
    "# Existing tensor\n",
    "input_tensor = torch.tensor([[1, 2]])\n",
    "print(input_tensor.shape)\n",
    "\n",
    "# New row to add\n",
    "new_row = torch.tensor([5, 6])\n",
    "print(new_row)\n",
    "un_new_row = new_row.unsqueeze(0)\n",
    "print(un_new_row)\n",
    "\n",
    "# Stack the new row below the existing tensor\n",
    "output_tensor = torch.cat((input_tensor, un_new_row), dim=0)\n",
    "\n",
    "print(output_tensor)"
   ],
   "metadata": {
    "collapsed": false,
    "ExecuteTime": {
     "end_time": "2023-09-28T07:26:17.378040Z",
     "start_time": "2023-09-28T07:26:17.372294Z"
    }
   }
  },
  {
   "cell_type": "code",
   "execution_count": 56,
   "outputs": [
    {
     "name": "stdout",
     "output_type": "stream",
     "text": [
      "torch.Size([0, 3, 2])\n",
      "torch.Size([1, 3, 2])\n",
      "tensor([[[1., 2.],\n",
      "         [3., 4.],\n",
      "         [3., 4.]]])\n"
     ]
    }
   ],
   "source": [
    "import torch\n",
    "\n",
    "# Step 1: Create an empty tensor\n",
    "# You can use torch.empty to create an uninitialized tensor or torch.zeros to create a tensor filled with zeros.\n",
    "empty_tensor = torch.empty((0, 3, 2), dtype=torch.float32)  # Create an empty tensor with shape (0, 2)\n",
    "print(empty_tensor.shape)\n",
    "# Step 2: Add items to the empty tensor\n",
    "new_items = torch.tensor([[1, 2], [3,4], [3,4]]).unsqueeze(0)  # New items to add\n",
    "print(new_items.shape)\n",
    "\n",
    "# Concatenate the new items to the empty tensor\n",
    "result = torch.cat((empty_tensor, new_items), dim=0)\n",
    "\n",
    "print(result)"
   ],
   "metadata": {
    "collapsed": false,
    "ExecuteTime": {
     "end_time": "2023-09-28T07:55:10.851919Z",
     "start_time": "2023-09-28T07:55:10.839734Z"
    }
   }
  },
  {
   "cell_type": "code",
   "execution_count": null,
   "outputs": [],
   "source": [],
   "metadata": {
    "collapsed": false
   }
  }
 ],
 "metadata": {
  "kernelspec": {
   "display_name": "Python 3",
   "language": "python",
   "name": "python3"
  },
  "language_info": {
   "codemirror_mode": {
    "name": "ipython",
    "version": 2
   },
   "file_extension": ".py",
   "mimetype": "text/x-python",
   "name": "python",
   "nbconvert_exporter": "python",
   "pygments_lexer": "ipython2",
   "version": "2.7.6"
  }
 },
 "nbformat": 4,
 "nbformat_minor": 0
}
