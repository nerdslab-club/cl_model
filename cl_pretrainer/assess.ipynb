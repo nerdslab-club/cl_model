{
 "cells": [
  {
   "cell_type": "code",
   "execution_count": 6,
   "metadata": {
    "collapsed": true,
    "ExecuteTime": {
     "end_time": "2023-09-26T13:49:44.250751Z",
     "start_time": "2023-09-26T13:49:44.246029Z"
    }
   },
   "outputs": [
    {
     "name": "stdout",
     "output_type": "stream",
     "text": [
      "Mask torch.Size([2, 3, 10])\n",
      " tensor([[[1., 1., 1., 1., 1., 1., 1., 1., 1., 1.],\n",
      "         [2., 2., 2., 2., 2., 2., 2., 2., 2., 2.],\n",
      "         [1., 1., 1., 1., 1., 1., 1., 1., 1., 1.]],\n",
      "\n",
      "        [[2., 2., 2., 2., 2., 2., 2., 2., 2., 2.],\n",
      "         [1., 1., 1., 1., 1., 1., 1., 1., 1., 1.],\n",
      "         [2., 2., 2., 2., 2., 2., 2., 2., 2., 2.]]])\n"
     ]
    }
   ],
   "source": [
    "import torch\n",
    "\n",
    "# Your input tensors\n",
    "embeddings = torch.randn(2, 3, 10)  # Replace with your actual tensor\n",
    "is_special = torch.tensor([[True, False, True], [False, True, False]])  # Replace with your actual bool tensor\n",
    "\n",
    "# Create a mask to apply either 1 or 2 to the embeddings\n",
    "mask = torch.where(is_special.unsqueeze(-1), torch.tensor(1.0), torch.tensor(2.0))\n",
    "\n",
    "# Broadcast the mask to match the shape of the embeddings tensor\n",
    "mask = mask.expand_as(embeddings)\n",
    "print(f\"Mask {mask.shape}\\n {mask}\")\n",
    "\n",
    "# Element-wise multiplication to update the embeddings\n",
    "updated_embeddings = embeddings * mask\n"
   ]
  },
  {
   "cell_type": "code",
   "execution_count": null,
   "outputs": [],
   "source": [],
   "metadata": {
    "collapsed": false
   }
  }
 ],
 "metadata": {
  "kernelspec": {
   "display_name": "Python 3",
   "language": "python",
   "name": "python3"
  },
  "language_info": {
   "codemirror_mode": {
    "name": "ipython",
    "version": 2
   },
   "file_extension": ".py",
   "mimetype": "text/x-python",
   "name": "python",
   "nbconvert_exporter": "python",
   "pygments_lexer": "ipython2",
   "version": "2.7.6"
  }
 },
 "nbformat": 4,
 "nbformat_minor": 0
}
