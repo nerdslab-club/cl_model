{
 "cells": [
  {
   "cell_type": "code",
   "execution_count": 4,
   "metadata": {
    "collapsed": true,
    "ExecuteTime": {
     "end_time": "2023-10-04T08:56:31.726459Z",
     "start_time": "2023-10-04T08:56:31.720720Z"
    }
   },
   "outputs": [
    {
     "name": "stdout",
     "output_type": "stream",
     "text": [
      "Mask torch.Size([2, 3, 10])\n",
      " tensor([[[1., 1., 1., 1., 1., 1., 1., 1., 1., 1.],\n",
      "         [2., 2., 2., 2., 2., 2., 2., 2., 2., 2.],\n",
      "         [1., 1., 1., 1., 1., 1., 1., 1., 1., 1.]],\n",
      "\n",
      "        [[2., 2., 2., 2., 2., 2., 2., 2., 2., 2.],\n",
      "         [1., 1., 1., 1., 1., 1., 1., 1., 1., 1.],\n",
      "         [2., 2., 2., 2., 2., 2., 2., 2., 2., 2.]]])\n"
     ]
    }
   ],
   "source": [
    "import torch\n",
    "\n",
    "# Your input tensors\n",
    "embeddings = torch.randn(2, 3, 10)  # Replace with your actual tensor\n",
    "is_special = torch.tensor([[True, False, True], [False, True, False]])  # Replace with your actual bool tensor\n",
    "\n",
    "# Create a mask to apply either 1 or 2 to the embeddings\n",
    "mask = torch.where(is_special.unsqueeze(-1), torch.tensor(1.0), torch.tensor(2.0))\n",
    "\n",
    "# Broadcast the mask to match the shape of the embeddings tensor\n",
    "mask = mask.expand_as(embeddings)\n",
    "print(f\"Mask {mask.shape}\\n {mask}\")\n",
    "\n",
    "# Element-wise multiplication to update the embeddings\n",
    "updated_embeddings = embeddings * mask\n"
   ]
  },
  {
   "cell_type": "code",
   "execution_count": 10,
   "outputs": [
    {
     "name": "stdout",
     "output_type": "stream",
     "text": [
      "tensor([[ True, False,  True, False,  True],\n",
      "        [False, False,  True,  True,  True],\n",
      "        [ True,  True, False,  True, False],\n",
      "        [False, False, False,  True,  True]])\n",
      "tensor([[3, 1, 3, 1, 3],\n",
      "        [1, 3, 2, 1, 3],\n",
      "        [3, 1, 2, 1, 1],\n",
      "        [1, 1, 3, 2, 3]])\n"
     ]
    }
   ],
   "source": [
    "import torch\n",
    "\n",
    "# Sample data\n",
    "batch_size = 4\n",
    "sequence_length = 5\n",
    "embedding_length = 10\n",
    "\n",
    "# Create random tensors for X and M\n",
    "X = torch.randn(batch_size, sequence_length, embedding_length)\n",
    "M = torch.randint(0, 2, (batch_size, sequence_length), dtype=torch.bool)\n",
    "M_values = torch.randint(1, 4, (batch_size, sequence_length))\n",
    "\n",
    "print(M)\n",
    "print(M_values)\n"
   ],
   "metadata": {
    "collapsed": false,
    "ExecuteTime": {
     "end_time": "2023-10-04T19:54:10.882930Z",
     "start_time": "2023-10-04T19:54:10.862300Z"
    }
   }
  },
  {
   "cell_type": "code",
   "execution_count": 27,
   "outputs": [
    {
     "name": "stdout",
     "output_type": "stream",
     "text": [
      "tensor([[False,  True,  True, False, False,  True, False, False, False, False]])\n"
     ]
    }
   ],
   "source": [
    "import torch\n",
    "\n",
    "# Sample data\n",
    "batch_size = 1\n",
    "sequence_length = 10\n",
    "embedding_length = 5\n",
    "\n",
    "# Create random tensors for X and M\n",
    "X = torch.randn(batch_size, sequence_length, embedding_length)\n",
    "M = torch.randint(0, 2, (batch_size, sequence_length), dtype=torch.bool)\n",
    "print(M)"
   ],
   "metadata": {
    "collapsed": false,
    "ExecuteTime": {
     "end_time": "2023-10-06T09:25:06.292163Z",
     "start_time": "2023-10-06T09:25:06.287910Z"
    }
   }
  },
  {
   "cell_type": "code",
   "execution_count": 35,
   "outputs": [
    {
     "name": "stdout",
     "output_type": "stream",
     "text": [
      "Tensor 1 shape: torch.Size([2, 5]) Start:  (0, 1) End:  (0, 2) tensor(False)\n",
      "Tensor 2 shape: torch.Size([1, 5]) Start:  (0, 5) End:  (0, 5) tensor(False)\n"
     ]
    }
   ],
   "source": [
    "# Initialize variables\n",
    "EM = torch.randint(0, 2, (batch_size, sequence_length), dtype=torch.bool)\n",
    "\n",
    "result = []\n",
    "current_map = {}\n",
    "current_tensor = None  # Variable to accumulate consecutive True values\n",
    "start = (0,0)\n",
    "# Iterate through the M tensor\n",
    "for i in range(batch_size):\n",
    "    for j in range(sequence_length):\n",
    "        if M[i][j]:\n",
    "            if current_tensor is None:\n",
    "                current_map[\"start\"] = (i, j)\n",
    "                current_map[\"encoder_tensor\"]  = EM[i][j]\n",
    "                current_tensor = X[i][j].unsqueeze(0)  # Create a new tensor\n",
    "            else:\n",
    "                current_tensor = torch.cat((current_tensor, X[i][j].unsqueeze(0)), dim=0)\n",
    "        elif current_tensor is not None:\n",
    "            current_map[\"end\"] = (i, j-1)\n",
    "            current_map[\"tensor_list\"] = current_tensor\n",
    "            result.append(current_map)\n",
    "            current_tensor = None\n",
    "            current_map = {}\n",
    "\n",
    "    if current_tensor is not None:\n",
    "            current_map[\"end\"] = (i, sequence_length)\n",
    "            current_map[\"tensor_list\"] = current_tensor\n",
    "            result.append(current_map)\n",
    "            current_tensor = None\n",
    "            current_map = {}\n",
    "\n",
    "# Print the list of resulting tensors\n",
    "for i, item in enumerate(result):\n",
    "    print(f\"Tensor {i + 1} shape:\", item.get(\"tensor_list\").shape,\n",
    "          \"Start: \", item.get(\"start\"), \"End: \", item.get(\"end\"), item.get(\"encoder_tensor\") )"
   ],
   "metadata": {
    "collapsed": false,
    "ExecuteTime": {
     "end_time": "2023-10-06T09:34:23.327641Z",
     "start_time": "2023-10-06T09:34:23.317758Z"
    }
   }
  },
  {
   "cell_type": "code",
   "execution_count": 15,
   "outputs": [
    {
     "name": "stdout",
     "output_type": "stream",
     "text": [
      "[(2, 3), (3, 4), (4, 5), (5, 6), (6, 7)]\n"
     ]
    }
   ],
   "source": [
    "original_list = [1, 2, 3, 4, 5]\n",
    "new_list = [(item+1, item+2) for item in original_list]\n",
    "print(new_list)"
   ],
   "metadata": {
    "collapsed": false,
    "ExecuteTime": {
     "end_time": "2023-10-05T12:34:04.985075Z",
     "start_time": "2023-10-05T12:34:04.982287Z"
    }
   }
  },
  {
   "cell_type": "code",
   "execution_count": 17,
   "outputs": [
    {
     "name": "stdout",
     "output_type": "stream",
     "text": [
      "[1, 1, 2, 2, 3, 3, 4, 4, 5, 5]\n"
     ]
    }
   ],
   "source": [
    "original_list = [1, 2, 3, 4, 5]\n",
    "\n",
    "# Add both item and item*2 to the new list\n",
    "new_list = [item for item in original_list for _ in range(2)]\n",
    "print(new_list)"
   ],
   "metadata": {
    "collapsed": false,
    "ExecuteTime": {
     "end_time": "2023-10-05T12:35:31.396837Z",
     "start_time": "2023-10-05T12:35:31.393482Z"
    }
   }
  },
  {
   "cell_type": "code",
   "execution_count": 21,
   "outputs": [
    {
     "name": "stdout",
     "output_type": "stream",
     "text": [
      "tensor([ True, False])\n"
     ]
    }
   ],
   "source": [
    "my_bool = [True]\n",
    "\n",
    "tensor_bool = torch.tensor(my_bool, dtype=torch.bool)\n",
    "tensor_bool_one = torch.tensor([False], dtype=torch.bool)\n",
    "\n",
    "concatenated_tensor = torch.cat((tensor_bool, tensor_bool_one), dim=0)\n",
    "\n",
    "print(concatenated_tensor)"
   ],
   "metadata": {
    "collapsed": false,
    "ExecuteTime": {
     "end_time": "2023-10-06T07:10:52.833473Z",
     "start_time": "2023-10-06T07:10:52.825641Z"
    }
   }
  },
  {
   "cell_type": "code",
   "execution_count": 34,
   "outputs": [
    {
     "name": "stdout",
     "output_type": "stream",
     "text": [
      "1\n"
     ]
    }
   ],
   "source": [
    "first_dim_size = M.size(0)\n",
    "print(first_dim_size)"
   ],
   "metadata": {
    "collapsed": false,
    "ExecuteTime": {
     "end_time": "2023-10-06T09:31:30.998643Z",
     "start_time": "2023-10-06T09:31:30.989282Z"
    }
   }
  },
  {
   "cell_type": "code",
   "execution_count": 37,
   "outputs": [
    {
     "name": "stdout",
     "output_type": "stream",
     "text": [
      "tensor([[[ 0.1591, -0.0102,  1.1763, -0.3949,  1.3171],\n",
      "         [-0.6134, -0.5939, -0.7604,  2.2294, -0.1385],\n",
      "         [ 0.7342,  2.4203,  0.0426,  0.1816, -0.7072],\n",
      "         [-0.3910, -0.3756,  0.5061, -0.0571,  1.3809],\n",
      "         [ 0.4263,  0.9049,  0.7583, -1.0946,  1.2673],\n",
      "         [-0.0242,  1.7505,  0.0562,  1.2286, -0.5472],\n",
      "         [ 0.2191, -0.6461,  0.9158, -1.9531, -1.1377],\n",
      "         [-0.0860, -0.8652, -1.7684,  0.3371, -0.5477],\n",
      "         [ 1.3511,  0.3069, -0.7994,  0.7900,  0.4231],\n",
      "         [ 1.1680, -0.4623,  1.7892,  0.9823,  0.4738]],\n",
      "\n",
      "        [[-0.8528,  2.4968, -0.3063, -0.3109, -0.4799],\n",
      "         [ 1.1040,  0.0427, -1.7871,  0.0991, -0.1991],\n",
      "         [-0.7583,  0.5084, -0.2497, -0.5880,  0.4240],\n",
      "         [ 1.0000,  1.0000,  1.0000,  1.0000,  1.0000],\n",
      "         [ 1.0000,  1.0000,  1.0000,  1.0000,  1.0000],\n",
      "         [ 1.0000,  1.0000,  1.0000,  1.0000,  1.0000],\n",
      "         [ 1.0000,  1.0000,  1.0000,  1.0000,  1.0000],\n",
      "         [-0.7509,  1.1820,  1.1245,  0.8561,  0.9836],\n",
      "         [ 0.3499, -0.2584,  0.7471, -0.7540, -0.1440],\n",
      "         [ 1.4082,  0.6200, -0.6187, -0.3194,  0.4515]],\n",
      "\n",
      "        [[ 1.4482,  0.2540,  0.2240,  2.6316, -0.6759],\n",
      "         [ 0.1116, -0.2699,  1.1652, -0.6401, -0.4900],\n",
      "         [ 0.6628,  0.6931, -0.0706,  0.1730,  0.5877],\n",
      "         [-0.7505, -0.4855, -1.4025,  0.2156, -1.2342],\n",
      "         [-0.2792,  0.1719, -0.0403, -0.6853, -1.3092],\n",
      "         [ 0.3625,  0.6633,  0.9200, -1.0185,  0.4577],\n",
      "         [-0.2641, -1.0717,  0.2983, -3.2427,  1.6608],\n",
      "         [-0.9593, -1.1359, -1.4036,  0.7360, -0.7277],\n",
      "         [-0.0340, -0.3382, -2.3776, -1.1445,  0.2810],\n",
      "         [-0.9229, -1.7872,  0.3832, -0.6055,  1.3344]]])\n"
     ]
    }
   ],
   "source": [
    "import torch\n",
    "\n",
    "# Sample tensor of shape [batch_size, sequence_length, hidden_dim]\n",
    "batch_size = 3\n",
    "sequence_length = 10\n",
    "hidden_dim = 5\n",
    "original_tensor = torch.randn(batch_size, sequence_length, hidden_dim)\n",
    "\n",
    "# Specify the batch number and the slice window\n",
    "batch_index = 1  # Replace a slice in the 2nd batch\n",
    "start_sequence = 3\n",
    "end_sequence = 7\n",
    "\n",
    "# Create a tensor to replace the slice with\n",
    "replacement_tensor = torch.ones(end_sequence - start_sequence, hidden_dim)\n",
    "\n",
    "# Replace the slice in the original tensor\n",
    "original_tensor[batch_index, start_sequence:end_sequence, :] = replacement_tensor\n",
    "\n",
    "# Print the updated tensor\n",
    "print(original_tensor)\n"
   ],
   "metadata": {
    "collapsed": false,
    "ExecuteTime": {
     "end_time": "2023-10-06T10:22:33.328196Z",
     "start_time": "2023-10-06T10:22:33.314974Z"
    }
   }
  },
  {
   "cell_type": "code",
   "execution_count": 3,
   "outputs": [
    {
     "name": "stdout",
     "output_type": "stream",
     "text": [
      "dict_items([('joaa', {'OutputVocabBuilder.OUTPUT_TOKEN_CLASSIFICATION_HEAD_VOCAB_ITEM': 100, 'OutputVocabBuilder.INDEX_TO_OUTPUT': {}, 'OutputVocabBuilder.OUTPUT_TO_INDEX': {}}), ('prattoy', {'OutputVocabBuilder.OUTPUT_TOKEN_CLASSIFICATION_HEAD_VOCAB_ITEM': 200, 'OutputVocabBuilder.INDEX_TO_OUTPUT': {}, 'OutputVocabBuilder.OUTPUT_TO_INDEX': {}}), ('enam', {'OutputVocabBuilder.OUTPUT_TOKEN_CLASSIFICATION_HEAD_VOCAB_ITEM': 300, 'OutputVocabBuilder.INDEX_TO_OUTPUT': {}, 'OutputVocabBuilder.OUTPUT_TO_INDEX': {}})])\n"
     ]
    }
   ],
   "source": [
    "my_dict = {\n",
    "    \"joaa\": 100,\n",
    "    \"prattoy\": 200,\n",
    "    \"enam\": 300\n",
    "}\n",
    "\n",
    "# Initializing the output vocabulary items\n",
    "for index, output_token_classification_head_vocab_item in my_dict.items():\n",
    "    output_vocabulary_item = {\n",
    "        \"OutputVocabBuilder.OUTPUT_TOKEN_CLASSIFICATION_HEAD_VOCAB_ITEM\": output_token_classification_head_vocab_item,\n",
    "        \"OutputVocabBuilder.INDEX_TO_OUTPUT\": {},\n",
    "        \"OutputVocabBuilder.OUTPUT_TO_INDEX\": {},\n",
    "    }\n",
    "    my_dict[index] = output_vocabulary_item\n",
    "\n",
    "print(my_dict.items())"
   ],
   "metadata": {
    "collapsed": false,
    "ExecuteTime": {
     "end_time": "2023-10-08T16:53:53.384596Z",
     "start_time": "2023-10-08T16:53:53.379955Z"
    }
   }
  },
  {
   "cell_type": "code",
   "execution_count": 3,
   "outputs": [
    {
     "name": "stdout",
     "output_type": "stream",
     "text": [
      "6\n",
      "7\n",
      "8\n",
      "9\n"
     ]
    }
   ],
   "source": [
    "for i in range(6, 10):\n",
    "    print(i)\n"
   ],
   "metadata": {
    "collapsed": false,
    "ExecuteTime": {
     "end_time": "2024-01-07T07:59:37.579170Z",
     "start_time": "2024-01-07T07:59:37.578326Z"
    }
   }
  },
  {
   "cell_type": "code",
   "execution_count": 2,
   "outputs": [
    {
     "name": "stdout",
     "output_type": "stream",
     "text": [
      "i value is $6 and item is $1\n",
      "i value is $7 and item is $2\n",
      "i value is $8 and item is $3\n",
      "i value is $9 and item is $4\n",
      "i value is $10 and item is $5\n",
      "i value is $11 and item is $6\n",
      "i value is $12 and item is $7\n",
      "i value is $13 and item is $8\n"
     ]
    }
   ],
   "source": [
    "lst = [1,2,3,4,5,6,7,8]\n",
    "for i, item in enumerate(lst, start=6):\n",
    "    print(f\"i value is ${i} and item is ${item}\")\n"
   ],
   "metadata": {
    "collapsed": false,
    "ExecuteTime": {
     "end_time": "2024-01-07T07:59:03.443825Z",
     "start_time": "2024-01-07T07:59:03.432990Z"
    }
   }
  },
  {
   "cell_type": "code",
   "execution_count": 4,
   "outputs": [
    {
     "name": "stdout",
     "output_type": "stream",
     "text": [
      "param1: 3, param2: 4, param3: 5\n"
     ]
    }
   ],
   "source": [
    "def example_function(param1, param2, param3):\n",
    "    print(f\"param1: {param1}, param2: {param2}, param3: {param3}\")\n",
    "\n",
    "# Your list of parameters\n",
    "param_list = [1, 2, 3, 4, 5, 6]\n",
    "\n",
    "# Define the indices i and j\n",
    "i = 2\n",
    "j = 4\n",
    "\n",
    "# Extract the relevant portion of the list using slicing\n",
    "params_to_pass = param_list[i:j+1]\n",
    "\n",
    "# Call the function with the unpacked parameters\n",
    "example_function(*params_to_pass)"
   ],
   "metadata": {
    "collapsed": false,
    "ExecuteTime": {
     "end_time": "2024-01-07T08:29:38.894726Z",
     "start_time": "2024-01-07T08:29:38.889985Z"
    }
   }
  },
  {
   "cell_type": "code",
   "execution_count": 4,
   "outputs": [
    {
     "name": "stdout",
     "output_type": "stream",
     "text": [
      "0\n",
      "1\n",
      "2\n",
      "8\n",
      "9\n",
      "10\n",
      "4\n"
     ]
    }
   ],
   "source": [
    "i = 0\n",
    "while i <= 10:\n",
    "    # Your code here\n",
    "    if i == 3:\n",
    "        i = 8  # exit the loop when i becomes 8\n",
    "\n",
    "    print(i)\n",
    "    i += 1\n",
    "\n",
    "lst = [1,2,3,4]\n",
    "print(len(lst))"
   ],
   "metadata": {
    "collapsed": false,
    "ExecuteTime": {
     "end_time": "2024-01-08T20:06:19.068536Z",
     "start_time": "2024-01-08T20:06:19.063197Z"
    }
   }
  },
  {
   "cell_type": "code",
   "execution_count": null,
   "outputs": [],
   "source": [],
   "metadata": {
    "collapsed": false
   }
  }
 ],
 "metadata": {
  "kernelspec": {
   "display_name": "Python 3",
   "language": "python",
   "name": "python3"
  },
  "language_info": {
   "codemirror_mode": {
    "name": "ipython",
    "version": 2
   },
   "file_extension": ".py",
   "mimetype": "text/x-python",
   "name": "python",
   "nbconvert_exporter": "python",
   "pygments_lexer": "ipython2",
   "version": "2.7.6"
  }
 },
 "nbformat": 4,
 "nbformat_minor": 0
}
