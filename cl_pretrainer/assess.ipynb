{
 "cells": [
  {
   "cell_type": "code",
   "execution_count": 4,
   "metadata": {
    "collapsed": true,
    "ExecuteTime": {
     "end_time": "2023-10-04T08:56:31.726459Z",
     "start_time": "2023-10-04T08:56:31.720720Z"
    }
   },
   "outputs": [
    {
     "name": "stdout",
     "output_type": "stream",
     "text": [
      "Mask torch.Size([2, 3, 10])\n",
      " tensor([[[1., 1., 1., 1., 1., 1., 1., 1., 1., 1.],\n",
      "         [2., 2., 2., 2., 2., 2., 2., 2., 2., 2.],\n",
      "         [1., 1., 1., 1., 1., 1., 1., 1., 1., 1.]],\n",
      "\n",
      "        [[2., 2., 2., 2., 2., 2., 2., 2., 2., 2.],\n",
      "         [1., 1., 1., 1., 1., 1., 1., 1., 1., 1.],\n",
      "         [2., 2., 2., 2., 2., 2., 2., 2., 2., 2.]]])\n"
     ]
    }
   ],
   "source": [
    "import torch\n",
    "\n",
    "# Your input tensors\n",
    "embeddings = torch.randn(2, 3, 10)  # Replace with your actual tensor\n",
    "is_special = torch.tensor([[True, False, True], [False, True, False]])  # Replace with your actual bool tensor\n",
    "\n",
    "# Create a mask to apply either 1 or 2 to the embeddings\n",
    "mask = torch.where(is_special.unsqueeze(-1), torch.tensor(1.0), torch.tensor(2.0))\n",
    "\n",
    "# Broadcast the mask to match the shape of the embeddings tensor\n",
    "mask = mask.expand_as(embeddings)\n",
    "print(f\"Mask {mask.shape}\\n {mask}\")\n",
    "\n",
    "# Element-wise multiplication to update the embeddings\n",
    "updated_embeddings = embeddings * mask\n"
   ]
  },
  {
   "cell_type": "code",
   "execution_count": 10,
   "outputs": [
    {
     "name": "stdout",
     "output_type": "stream",
     "text": [
      "tensor([[ True, False,  True, False,  True],\n",
      "        [False, False,  True,  True,  True],\n",
      "        [ True,  True, False,  True, False],\n",
      "        [False, False, False,  True,  True]])\n",
      "tensor([[3, 1, 3, 1, 3],\n",
      "        [1, 3, 2, 1, 3],\n",
      "        [3, 1, 2, 1, 1],\n",
      "        [1, 1, 3, 2, 3]])\n"
     ]
    }
   ],
   "source": [
    "import torch\n",
    "\n",
    "# Sample data\n",
    "batch_size = 4\n",
    "sequence_length = 5\n",
    "embedding_length = 10\n",
    "\n",
    "# Create random tensors for X and M\n",
    "X = torch.randn(batch_size, sequence_length, embedding_length)\n",
    "M = torch.randint(0, 2, (batch_size, sequence_length), dtype=torch.bool)\n",
    "M_values = torch.randint(1, 4, (batch_size, sequence_length))\n",
    "\n",
    "print(M)\n",
    "print(M_values)\n"
   ],
   "metadata": {
    "collapsed": false,
    "ExecuteTime": {
     "end_time": "2023-10-04T19:54:10.882930Z",
     "start_time": "2023-10-04T19:54:10.862300Z"
    }
   }
  },
  {
   "cell_type": "code",
   "execution_count": 12,
   "outputs": [],
   "source": [
    "import torch\n",
    "\n",
    "# Sample data\n",
    "batch_size = 4\n",
    "sequence_length = 10\n",
    "embedding_length = 5\n",
    "\n",
    "# Create random tensors for X and M\n",
    "X = torch.randn(batch_size, sequence_length, embedding_length)\n",
    "M = torch.randint(0, 2, (batch_size, sequence_length), dtype=torch.bool)\n"
   ],
   "metadata": {
    "collapsed": false,
    "ExecuteTime": {
     "end_time": "2023-10-04T19:57:40.884476Z",
     "start_time": "2023-10-04T19:57:40.879838Z"
    }
   }
  },
  {
   "cell_type": "code",
   "execution_count": 13,
   "outputs": [
    {
     "name": "stdout",
     "output_type": "stream",
     "text": [
      "tensor([[False, False,  True, False, False, False, False,  True, False, False],\n",
      "        [False, False,  True,  True, False, False, False, False, False,  True],\n",
      "        [ True, False, False,  True, False, False,  True,  True, False,  True],\n",
      "        [ True,  True, False, False, False, False,  True,  True, False,  True]])\n",
      "Tensor 1 shape: torch.Size([1, 5]) Start:  (0, 2) End:  (0, 2)\n",
      "Tensor 2 shape: torch.Size([1, 5]) Start:  (0, 7) End:  (0, 7)\n",
      "Tensor 3 shape: torch.Size([2, 5]) Start:  (1, 2) End:  (1, 3)\n",
      "Tensor 4 shape: torch.Size([1, 5]) Start:  (1, 9) End:  (1, 10)\n",
      "Tensor 5 shape: torch.Size([1, 5]) Start:  (2, 0) End:  (2, 0)\n",
      "Tensor 6 shape: torch.Size([1, 5]) Start:  (2, 3) End:  (2, 3)\n",
      "Tensor 7 shape: torch.Size([2, 5]) Start:  (2, 6) End:  (2, 7)\n",
      "Tensor 8 shape: torch.Size([1, 5]) Start:  (2, 9) End:  (2, 10)\n",
      "Tensor 9 shape: torch.Size([2, 5]) Start:  (3, 0) End:  (3, 1)\n",
      "Tensor 10 shape: torch.Size([2, 5]) Start:  (3, 6) End:  (3, 7)\n",
      "Tensor 11 shape: torch.Size([1, 5]) Start:  (3, 9) End:  (3, 10)\n"
     ]
    }
   ],
   "source": [
    "# Initialize variables\n",
    "print(M)\n",
    "\n",
    "EM = torch.randint(0, 2, (batch_size, sequence_length), dtype=torch.bool)\n",
    "\n",
    "result = []\n",
    "current_map = {}\n",
    "current_tensor = None  # Variable to accumulate consecutive True values\n",
    "start = (0,0)\n",
    "# Iterate through the M tensor\n",
    "for i in range(batch_size):\n",
    "    for j in range(sequence_length):\n",
    "        if M[i][j]:\n",
    "            if current_tensor is None:\n",
    "                current_map[\"start\"] = (i, j)\n",
    "                current_map[\"encoder_tensor\"]  = EM[i][j]\n",
    "                current_tensor = X[i][j].unsqueeze(0)  # Create a new tensor\n",
    "            else:\n",
    "                current_tensor = torch.cat((current_tensor, X[i][j].unsqueeze(0)), dim=0)\n",
    "        elif current_tensor is not None:\n",
    "            current_map[\"end\"] = (i, j-1)\n",
    "            current_map[\"tensor_list\"] = current_tensor\n",
    "            result.append(current_map)\n",
    "            current_tensor = None\n",
    "            current_map = {}\n",
    "\n",
    "    if current_tensor is not None:\n",
    "            current_map[\"end\"] = (i, sequence_length)\n",
    "            current_map[\"tensor_list\"] = current_tensor\n",
    "            result.append(current_map)\n",
    "            current_tensor = None\n",
    "            current_map = {}\n",
    "\n",
    "# Print the list of resulting tensors\n",
    "for i, item in enumerate(result):\n",
    "    print(f\"Tensor {i + 1} shape:\", item.get(\"tensor_list\").shape, \"Start: \", item.get(\"start\"), \"End: \", item.get(\"end\"))"
   ],
   "metadata": {
    "collapsed": false,
    "ExecuteTime": {
     "end_time": "2023-10-04T19:57:42.287144Z",
     "start_time": "2023-10-04T19:57:42.281017Z"
    }
   }
  },
  {
   "cell_type": "code",
   "execution_count": 15,
   "outputs": [
    {
     "name": "stdout",
     "output_type": "stream",
     "text": [
      "[(2, 3), (3, 4), (4, 5), (5, 6), (6, 7)]\n"
     ]
    }
   ],
   "source": [
    "original_list = [1, 2, 3, 4, 5]\n",
    "new_list = [(item+1, item+2) for item in original_list]\n",
    "print(new_list)"
   ],
   "metadata": {
    "collapsed": false,
    "ExecuteTime": {
     "end_time": "2023-10-05T12:34:04.985075Z",
     "start_time": "2023-10-05T12:34:04.982287Z"
    }
   }
  },
  {
   "cell_type": "code",
   "execution_count": 17,
   "outputs": [
    {
     "name": "stdout",
     "output_type": "stream",
     "text": [
      "[1, 1, 2, 2, 3, 3, 4, 4, 5, 5]\n"
     ]
    }
   ],
   "source": [
    "original_list = [1, 2, 3, 4, 5]\n",
    "\n",
    "# Add both item and item*2 to the new list\n",
    "new_list = [item for item in original_list for _ in range(2)]\n",
    "print(new_list)"
   ],
   "metadata": {
    "collapsed": false,
    "ExecuteTime": {
     "end_time": "2023-10-05T12:35:31.396837Z",
     "start_time": "2023-10-05T12:35:31.393482Z"
    }
   }
  },
  {
   "cell_type": "code",
   "execution_count": null,
   "outputs": [],
   "source": [],
   "metadata": {
    "collapsed": false
   }
  }
 ],
 "metadata": {
  "kernelspec": {
   "display_name": "Python 3",
   "language": "python",
   "name": "python3"
  },
  "language_info": {
   "codemirror_mode": {
    "name": "ipython",
    "version": 2
   },
   "file_extension": ".py",
   "mimetype": "text/x-python",
   "name": "python",
   "nbconvert_exporter": "python",
   "pygments_lexer": "ipython2",
   "version": "2.7.6"
  }
 },
 "nbformat": 4,
 "nbformat_minor": 0
}
