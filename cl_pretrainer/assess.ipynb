{
 "cells": [
  {
   "cell_type": "code",
   "execution_count": 4,
   "metadata": {
    "collapsed": true,
    "ExecuteTime": {
     "end_time": "2023-10-04T08:56:31.726459Z",
     "start_time": "2023-10-04T08:56:31.720720Z"
    }
   },
   "outputs": [
    {
     "name": "stdout",
     "output_type": "stream",
     "text": [
      "Mask torch.Size([2, 3, 10])\n",
      " tensor([[[1., 1., 1., 1., 1., 1., 1., 1., 1., 1.],\n",
      "         [2., 2., 2., 2., 2., 2., 2., 2., 2., 2.],\n",
      "         [1., 1., 1., 1., 1., 1., 1., 1., 1., 1.]],\n",
      "\n",
      "        [[2., 2., 2., 2., 2., 2., 2., 2., 2., 2.],\n",
      "         [1., 1., 1., 1., 1., 1., 1., 1., 1., 1.],\n",
      "         [2., 2., 2., 2., 2., 2., 2., 2., 2., 2.]]])\n"
     ]
    }
   ],
   "source": [
    "import torch\n",
    "\n",
    "# Your input tensors\n",
    "embeddings = torch.randn(2, 3, 10)  # Replace with your actual tensor\n",
    "is_special = torch.tensor([[True, False, True], [False, True, False]])  # Replace with your actual bool tensor\n",
    "\n",
    "# Create a mask to apply either 1 or 2 to the embeddings\n",
    "mask = torch.where(is_special.unsqueeze(-1), torch.tensor(1.0), torch.tensor(2.0))\n",
    "\n",
    "# Broadcast the mask to match the shape of the embeddings tensor\n",
    "mask = mask.expand_as(embeddings)\n",
    "print(f\"Mask {mask.shape}\\n {mask}\")\n",
    "\n",
    "# Element-wise multiplication to update the embeddings\n",
    "updated_embeddings = embeddings * mask\n"
   ]
  },
  {
   "cell_type": "code",
   "execution_count": 5,
   "outputs": [
    {
     "name": "stdout",
     "output_type": "stream",
     "text": [
      "tensor([[False, False,  True, False, False],\n",
      "        [ True,  True,  True, False, False],\n",
      "        [ True, False, False, False,  True],\n",
      "        [ True, False, False,  True,  True]])\n",
      "tensor([[2, 1, 3, 3, 2],\n",
      "        [3, 2, 3, 3, 1],\n",
      "        [2, 1, 1, 3, 2],\n",
      "        [1, 3, 3, 1, 2]])\n"
     ]
    }
   ],
   "source": [
    "import torch\n",
    "\n",
    "# Sample data\n",
    "batch_size = 4\n",
    "sequence_length = 5\n",
    "embedding_length = 10\n",
    "\n",
    "# Create random tensors for X and M\n",
    "X = torch.randn(batch_size, sequence_length, embedding_length)\n",
    "M = torch.randint(0, 2, (batch_size, sequence_length), dtype=torch.bool)\n",
    "M_values = torch.randint(1, 4, (batch_size, sequence_length))\n",
    "\n",
    "print(M)\n",
    "print(M_values)\n"
   ],
   "metadata": {
    "collapsed": false,
    "ExecuteTime": {
     "end_time": "2023-10-04T08:56:32.687888Z",
     "start_time": "2023-10-04T08:56:32.682390Z"
    }
   }
  },
  {
   "cell_type": "code",
   "execution_count": 6,
   "outputs": [],
   "source": [
    "import torch\n",
    "\n",
    "# Sample data\n",
    "batch_size = 4\n",
    "sequence_length = 10\n",
    "embedding_length = 5\n",
    "\n",
    "# Create random tensors for X and M\n",
    "X = torch.randn(batch_size, sequence_length, embedding_length)\n",
    "M = torch.randint(0, 2, (batch_size, sequence_length), dtype=torch.bool)\n"
   ],
   "metadata": {
    "collapsed": false,
    "ExecuteTime": {
     "end_time": "2023-10-04T08:56:33.652353Z",
     "start_time": "2023-10-04T08:56:33.649093Z"
    }
   }
  },
  {
   "cell_type": "code",
   "execution_count": 9,
   "outputs": [
    {
     "name": "stdout",
     "output_type": "stream",
     "text": [
      "tensor([[ True,  True,  True, False, False, False, False,  True, False, False],\n",
      "        [False,  True, False,  True,  True, False,  True,  True, False, False],\n",
      "        [ True,  True,  True,  True, False, False, False, False, False,  True],\n",
      "        [ True, False, False,  True,  True, False,  True, False,  True,  True]])\n",
      "Tensor 1 shape: torch.Size([3, 5])\n",
      "Tensor 2 shape: torch.Size([1, 5])\n",
      "Tensor 3 shape: torch.Size([1, 5])\n",
      "Tensor 4 shape: torch.Size([2, 5])\n",
      "Tensor 5 shape: torch.Size([2, 5])\n",
      "Tensor 6 shape: torch.Size([4, 5])\n",
      "Tensor 7 shape: torch.Size([1, 5])\n",
      "Tensor 8 shape: torch.Size([1, 5])\n",
      "Tensor 9 shape: torch.Size([2, 5])\n",
      "Tensor 10 shape: torch.Size([1, 5])\n",
      "Tensor 11 shape: torch.Size([2, 5])\n"
     ]
    }
   ],
   "source": [
    "# Initialize variables\n",
    "print(M)\n",
    "\n",
    "EM = torch.randint(0, 2, (batch_size, sequence_length), dtype=torch.bool)\n",
    "\n",
    "result = []\n",
    "current_map = {}\n",
    "current_tensor = None  # Variable to accumulate consecutive True values\n",
    "start = (0,0)\n",
    "# Iterate through the M tensor\n",
    "for i in range(batch_size):\n",
    "    for j in range(sequence_length):\n",
    "        if M[i][j]:\n",
    "            if current_tensor is None:\n",
    "                current_map[\"start\"] = (i, j)\n",
    "                current_map[\"encoder_tensor\"]  = EM[i][j]\n",
    "                current_tensor = X[i][j].unsqueeze(0)  # Create a new tensor\n",
    "            else:\n",
    "                current_tensor = torch.cat((current_tensor, X[i][j].unsqueeze(0)), dim=0)\n",
    "        elif current_tensor is not None:\n",
    "            current_map[\"end\"] = (i, j-1)\n",
    "            current_map[\"tensor_list\"] = current_tensor\n",
    "            result.append(current_map)\n",
    "            current_tensor = None\n",
    "            current_map = {}\n",
    "\n",
    "    if current_tensor is not None:\n",
    "            current_map[\"end\"] = (i, sequence_length)\n",
    "            current_map[\"tensor_list\"] = current_tensor\n",
    "            result.append(current_map)\n",
    "            current_tensor = None\n",
    "            current_map = {}\n",
    "\n",
    "# Print the list of resulting tensors\n",
    "for i, item in enumerate(result):\n",
    "    print(f\"Tensor {i + 1} shape:\", item.get(\"tensor_list\").shape)"
   ],
   "metadata": {
    "collapsed": false,
    "ExecuteTime": {
     "end_time": "2023-10-04T08:56:51.834139Z",
     "start_time": "2023-10-04T08:56:51.829191Z"
    }
   }
  },
  {
   "cell_type": "code",
   "execution_count": null,
   "outputs": [],
   "source": [],
   "metadata": {
    "collapsed": false
   }
  },
  {
   "cell_type": "code",
   "execution_count": null,
   "outputs": [],
   "source": [],
   "metadata": {
    "collapsed": false
   }
  }
 ],
 "metadata": {
  "kernelspec": {
   "display_name": "Python 3",
   "language": "python",
   "name": "python3"
  },
  "language_info": {
   "codemirror_mode": {
    "name": "ipython",
    "version": 2
   },
   "file_extension": ".py",
   "mimetype": "text/x-python",
   "name": "python",
   "nbconvert_exporter": "python",
   "pygments_lexer": "ipython2",
   "version": "2.7.6"
  }
 },
 "nbformat": 4,
 "nbformat_minor": 0
}
