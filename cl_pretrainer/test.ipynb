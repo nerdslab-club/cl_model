{
 "cells": [
  {
   "cell_type": "code",
   "execution_count": 10,
   "metadata": {
    "collapsed": true,
    "ExecuteTime": {
     "end_time": "2023-08-25T16:46:40.193125Z",
     "start_time": "2023-08-25T16:46:40.185202Z"
    }
   },
   "outputs": [
    {
     "name": "stdout",
     "output_type": "stream",
     "text": [
      "Random Tensor: torch.Size([10, 512])\n",
      "\n",
      "Tensor of Twos: torch.Size([10, 10])\n",
      "\n",
      "Result of Matmul: torch.Size([10, 512])\n"
     ]
    }
   ],
   "source": [
    "import torch\n",
    "\n",
    "# Create a random tensor of size [10, 512]\n",
    "random_tensor = torch.rand(10, 512)\n",
    "\n",
    "# Create a tensor of twos of size [10, 10]\n",
    "tensor_of_twos = 2 * torch.ones(10, 10)\n",
    "\n",
    "# Perform matrix multiplication\n",
    "result = torch.matmul(tensor_of_twos, random_tensor)\n",
    "\n",
    "print(f\"Random Tensor: {random_tensor.shape}\")\n",
    "# print(random_tensor)\n",
    "\n",
    "print(f\"\\nTensor of Twos: {tensor_of_twos.shape}\")\n",
    "# print(tensor_of_twos)\n",
    "\n",
    "print(f\"\\nResult of Matmul: {result.shape}\")\n",
    "# print(result)\n"
   ]
  },
  {
   "cell_type": "code",
   "execution_count": null,
   "outputs": [],
   "source": [],
   "metadata": {
    "collapsed": false
   }
  }
 ],
 "metadata": {
  "kernelspec": {
   "display_name": "Python 3",
   "language": "python",
   "name": "python3"
  },
  "language_info": {
   "codemirror_mode": {
    "name": "ipython",
    "version": 2
   },
   "file_extension": ".py",
   "mimetype": "text/x-python",
   "name": "python",
   "nbconvert_exporter": "python",
   "pygments_lexer": "ipython2",
   "version": "2.7.6"
  }
 },
 "nbformat": 4,
 "nbformat_minor": 0
}
