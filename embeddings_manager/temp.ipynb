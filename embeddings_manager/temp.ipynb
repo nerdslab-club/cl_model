{
 "cells": [
  {
   "cell_type": "code",
   "execution_count": null,
   "metadata": {
    "collapsed": true
   },
   "outputs": [],
   "source": [
    "import numpy as np\n",
    "import matplotlib.pyplot as plt\n",
    "\n",
    "# Parameters (same as before)\n",
    "sample_rate = 1024\n",
    "duration = 3\n",
    "num_samples = sample_rate * duration\n",
    "time = np.linspace(0, duration, num_samples, endpoint=False)\n",
    "\n",
    "# Frequency components (same as before)\n",
    "frequencies = [107, 207, 320, 420]\n",
    "amplitudes = [1.0, 0.8, 0.6, 0.4]\n",
    "modulations = [5, 7, 10, 14, 19, 25, 32]\n",
    "\n",
    "# Create individual sinusoidal signals (same as before)\n",
    "sinusoids = []\n",
    "for freq, amp in zip(frequencies, amplitudes):\n",
    "    sinusoid = amp * np.sin(2 * np.pi * freq * time)\n",
    "    sinusoids.append(sinusoid)\n",
    "\n",
    "# Combine the sinusoidal signals (same as before)\n",
    "combined_signal = np.sum(sinusoids, axis=0)\n",
    "# Normalize the signal\n",
    "combined_signal /= np.max(np.abs(combined_signal))\n",
    "\n",
    "# Create an array of size 768 (same as before)\n",
    "desired_length = 768\n",
    "if len(combined_signal) < desired_length:\n",
    "    padding = np.zeros(desired_length - len(combined_signal))\n",
    "    combined_signal = np.concatenate((combined_signal, padding))\n",
    "elif len(combined_signal) > desired_length:\n",
    "    combined_signal = combined_signal[:desired_length]\n",
    "\n",
    "# Visualization\n",
    "plt.figure(figsize=(10, 6))\n",
    "plt.plot(time[:desired_length], combined_signal)\n",
    "plt.title('Combined Sinusoidal Signal')\n",
    "plt.xlabel('Time (seconds)')\n",
    "plt.ylabel('Amplitude')\n",
    "plt.grid()\n",
    "plt.show()\n"
   ]
  }
 ],
 "metadata": {
  "kernelspec": {
   "display_name": "Python 3",
   "language": "python",
   "name": "python3"
  },
  "language_info": {
   "codemirror_mode": {
    "name": "ipython",
    "version": 2
   },
   "file_extension": ".py",
   "mimetype": "text/x-python",
   "name": "python",
   "nbconvert_exporter": "python",
   "pygments_lexer": "ipython2",
   "version": "2.7.6"
  }
 },
 "nbformat": 4,
 "nbformat_minor": 0
}
